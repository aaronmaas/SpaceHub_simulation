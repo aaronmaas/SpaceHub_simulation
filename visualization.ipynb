{
 "cells": [
  {
   "cell_type": "code",
   "execution_count": 1,
   "metadata": {},
   "outputs": [],
   "source": [
    "import numpy as np\n",
    "import matplotlib.pyplot as plt\n"
   ]
  },
  {
   "cell_type": "code",
   "execution_count": 2,
   "metadata": {},
   "outputs": [],
   "source": [
    "import ipywidgets as widgets\n",
    "import ipyvolume as ipv"
   ]
  },
  {
   "cell_type": "code",
   "execution_count": 18,
   "metadata": {},
   "outputs": [],
   "source": [
    "data = np.genfromtxt('solar.dat', delimiter=',')"
   ]
  },
  {
   "cell_type": "code",
   "execution_count": 19,
   "metadata": {},
   "outputs": [],
   "source": [
    "time = data[:,0]\n",
    "px = data[:,3]  #alle 3 körper der reihe nach\n",
    "py = data[:,4]\n",
    "pz = data[:,5]\n",
    "vx = data[:,6]\n",
    "vy = data[:,7]\n",
    "vz = data[:,8]"
   ]
  },
  {
   "cell_type": "code",
   "execution_count": 18,
   "metadata": {},
   "outputs": [
    {
     "data": {
      "text/plain": [
       "1032.42"
      ]
     },
     "execution_count": 18,
     "metadata": {},
     "output_type": "execute_result"
    }
   ],
   "source": [
    "len(time)/100\n"
   ]
  },
  {
   "cell_type": "code",
   "execution_count": 20,
   "metadata": {},
   "outputs": [],
   "source": [
    "px_sun = px[0::3]\n",
    "px_earth = px[1::3]\n",
    "px_moon = px[2::3]\n",
    "\n",
    "py_sun = py[0::3]\n",
    "py_earth =py[1::3]\n",
    "py_moon = py[2::3]\n",
    "\n",
    "pz_sun = pz[0::3]\n",
    "pz_earth = pz[1::3]\n",
    "pz_moon = pz[2::3]"
   ]
  },
  {
   "cell_type": "code",
   "execution_count": 21,
   "metadata": {},
   "outputs": [],
   "source": [
    "vx_sun = vx[0::3]\n",
    "vx_earth = vx[1::3]\n",
    "vx_moon = vx[2::3]\n",
    "\n",
    "vy_sun = vy[0::3]\n",
    "vy_earth = vy[1::3]\n",
    "vy_moon = vy[2::3]\n",
    "\n",
    "vz_sun = vz[0::3]\n",
    "vz_earth = vz[1::3]\n",
    "vz_moon = vz[2::3]"
   ]
  },
  {
   "cell_type": "code",
   "execution_count": 22,
   "metadata": {},
   "outputs": [],
   "source": [
    "def helper(a,b,c): \n",
    "    tot = [] \n",
    "    for i in range(len(a)):\n",
    "        tot.append([a[i],b[i],c[i]])\n",
    "    return  tot"
   ]
  },
  {
   "cell_type": "code",
   "execution_count": 23,
   "metadata": {},
   "outputs": [],
   "source": [
    "px_tot = np.asarray(helper(px_sun, px_earth, px_moon))\n",
    "py_tot = np.asarray(helper(py_sun, py_earth, py_moon))\n",
    "pz_tot = np.asarray(helper(pz_sun, pz_earth, pz_moon))\n",
    "\n",
    "vx_tot = np.asarray(helper(vx_sun, vx_earth, vx_moon))\n",
    "vy_tot = np.asarray(helper(vy_sun, vy_earth, vy_moon))\n",
    "vz_tot = np.asarray(helper(vz_sun, vz_earth, vz_moon))"
   ]
  },
  {
   "cell_type": "code",
   "execution_count": 9,
   "metadata": {},
   "outputs": [
    {
     "data": {
      "text/plain": [
       "(345,)"
      ]
     },
     "execution_count": 9,
     "metadata": {},
     "output_type": "execute_result"
    }
   ],
   "source": [
    "len(px_tot[::100]), "
   ]
  },
  {
   "cell_type": "code",
   "execution_count": 24,
   "metadata": {},
   "outputs": [
    {
     "data": {
      "application/vnd.jupyter.widget-view+json": {
       "model_id": "bc634b6cf5a94467af8dc4b2fb77e538",
       "version_major": 2,
       "version_minor": 0
      },
      "text/plain": [
       "VBox(children=(Figure(animation=200.0, camera=PerspectiveCamera(fov=46.0, position=(0.0, 0.0, 2.0), projection…"
      ]
     },
     "metadata": {},
     "output_type": "display_data"
    }
   ],
   "source": [
    "#%matplotlib ipyvolume\n",
    "Y,Z = np.meshgrid(py_earth[::15], pz_earth[::15])\n",
    "import pythreejs\n",
    "fig = ipv.figure()\n",
    "q = ipv.scatter(px_tot[::15], py_tot[::15], pz_tot[::15], marker='sphere', size=5)\n",
    "s =ipv.plot_surface(Z,Y, px_earth[::15])# marker='sphere', size=1)\n",
    "#ipv.xyzlim(-1, 1)\n",
    "#ipv.animation_control(s, interval = 200) # shows controls for animation controls\n",
    "ipv.animation_control(q, interval=200)\n",
    "ipv.pylab.xlabel(\"Position X [AU]\")\n",
    "ipv.pylab.ylabel(\"Position Y [AU]\")\n",
    "ipv.pylab.zlabel(\"Position Z [AU]\")\n",
    "ipv.pylab.style.set_style_dark()\n",
    "ipv.pylab.style.box_off()\n",
    "ipv.show()\n",
    "control = pythreejs.OrbitControls(controlling=fig.camera)\n",
    "# assigning to fig.controls will overwrite the builtin controls\n",
    "fig.controls = control\n",
    "control.autoRotate = True\n",
    "# the controls does not update itself, but if we toggle this setting, ipyvolume will update the controls\n",
    "fig.render_continuous = True"
   ]
  },
  {
   "cell_type": "code",
   "execution_count": 25,
   "metadata": {},
   "outputs": [
    {
     "data": {
      "application/vnd.jupyter.widget-view+json": {
       "model_id": "1f4d029e19074ba086907fd79744a394",
       "version_major": 2,
       "version_minor": 0
      },
      "text/plain": [
       "Output()"
      ]
     },
     "metadata": {},
     "output_type": "display_data"
    }
   ],
   "source": [
    "size = q.size\n",
    "def set_view(figure, framenr, fraction):\n",
    "     ipv.view(fraction*360, (fraction - 0.5) * 180, distance=2 + fraction*2)\n",
    "     q.size = size * (2+0.5*np.sin(fraction * 6 * np.pi))\n",
    "ipv.movie('peter.gif', set_view, fps=20, frames=40)"
   ]
  },
  {
   "cell_type": "markdown",
   "metadata": {},
   "source": [
    "###################################\n",
    "\n",
    "Second try   Particle star{1 * Ms};\n",
    "    Particle p1{1 * Me};  // earth mass planet\n",
    "    Particle p2{1 * Mj};  // Jupiter mass planet\n",
    "    Particle p3{0.3 * Mj};\n",
    "    Particle p4{0.1 * Me};"
   ]
  },
  {
   "cell_type": "code",
   "execution_count": 77,
   "metadata": {},
   "outputs": [],
   "source": [
    "data = np.genfromtxt(\"planet_sys.dat\", delimiter=\",\")"
   ]
  },
  {
   "cell_type": "code",
   "execution_count": 78,
   "metadata": {},
   "outputs": [],
   "source": [
    "time = data[:,0]\n",
    "px = data[:,3]  #alle 3 körper der reihe nach\n",
    "py = data[:,4]\n",
    "pz = data[:,5]\n",
    "vx = data[:,6]\n",
    "vy = data[:,7]\n",
    "vz = data[:,8]"
   ]
  },
  {
   "cell_type": "code",
   "execution_count": 79,
   "metadata": {},
   "outputs": [],
   "source": [
    "px_sun = px[0::5]\n",
    "px_earth1 = px[1::5]\n",
    "px_jupyter = px[2::5]\n",
    "px_jupy2 = px[3::5]\n",
    "px_earth2 = px[4::5]\n",
    "\n",
    "py_sun = py[0::5]\n",
    "py_earth1 = py[1::5]\n",
    "py_jupyter = py[2::5]\n",
    "py_jupy2 = py[3::5]\n",
    "py_earth2 = py[4::5]\n",
    "\n",
    "pz_sun = pz[0::5]\n",
    "pz_earth1 = pz[1::5]\n",
    "pz_jupyter = pz[2::5]\n",
    "pz_jupy2 = pz[3::5]\n",
    "pz_earth2 = pz[4::5]\n",
    "\n",
    "vx_sun = vx[0::5]\n",
    "vx_earth1 = vx[1::5]\n",
    "vx_jupyter = vx[2::5]\n",
    "vx_jupy2 = vx[3::5]\n",
    "vx_earth2 = vx[4::5]\n",
    "\n",
    "vy_sun = vy[0::5]\n",
    "vy_earth1 = vy[1::5]\n",
    "vy_jupyter = vy[2::5]\n",
    "vy_jupy2 = vy[3::5]\n",
    "vy_earth2 = vy[4::5]\n",
    "\n",
    "vz_sun = vz[0::5]\n",
    "vz_earth1 = vz[1::5]\n",
    "vz_jupyter = vz[2::5]\n",
    "vz_jupy2 = vz[3::5]\n",
    "vz_earth2 = vz[4::5]"
   ]
  },
  {
   "cell_type": "code",
   "execution_count": 80,
   "metadata": {},
   "outputs": [],
   "source": [
    "def helper(a,b,c,d,e): \n",
    "    tot = [] \n",
    "    for i in range(len(a)):\n",
    "        tot.append([a[i],b[i],c[i], d[i], e[i]])\n",
    "    return  tot"
   ]
  },
  {
   "cell_type": "code",
   "execution_count": 81,
   "metadata": {},
   "outputs": [],
   "source": [
    "px_tot = np.asarray(helper(px_sun, px_earth1, px_jupyter, px_jupy2, px_earth2))\n",
    "py_tot = np.asarray(helper(py_sun, py_earth1, py_jupyter, py_jupy2, py_earth2))\n",
    "pz_tot = np.asarray(helper(pz_sun, pz_earth1, pz_jupyter, pz_jupy2, pz_earth2))\n",
    "\n",
    "vx_tot = np.asarray(helper(vx_sun, vx_earth1, vx_jupyter, vx_jupy2, vx_earth2))\n",
    "vy_tot = np.asarray(helper(vy_sun, vy_earth1, vy_jupyter, vy_jupy2, vy_earth2))\n",
    "vz_tot = np.asarray(helper(vz_sun, vz_earth1, vz_jupyter, vz_jupy2, vz_earth2))"
   ]
  },
  {
   "cell_type": "code",
   "execution_count": 82,
   "metadata": {},
   "outputs": [
    {
     "data": {
      "application/vnd.jupyter.widget-view+json": {
       "model_id": "8656f56ed2f3458dac112fc76888bf13",
       "version_major": 2,
       "version_minor": 0
      },
      "text/plain": [
       "VBox(children=(Figure(animation=200.0, camera=PerspectiveCamera(fov=46.0, position=(0.0, 0.0, 2.0), projection…"
      ]
     },
     "metadata": {},
     "output_type": "display_data"
    }
   ],
   "source": [
    "ipv.figure()\n",
    "s = ipv.quiver(px_tot[0:2000], py_tot[0:2000], pz_tot[0:2000], vx_tot[0:2000], vy_tot[0:2000], vz_tot[0:2000] ,  marker='sphere',size=2)\n",
    "#ipv.scatter(px_tot[0:2000], py_tot[0:2000], pz_tot[0:2000], marker = \"spehere\")\n",
    "#ipv.xyzlim(-1, 1)\n",
    "ipv.animation_control(s, interval = 200) # shows controls for animation controls\n",
    "ipv.pylab.style.set_style_dark()\n",
    "ipv.pylab.style.box_off()\n",
    "ipv.show()"
   ]
  },
  {
   "cell_type": "code",
   "execution_count": 14,
   "metadata": {},
   "outputs": [],
   "source": [
    "data = np.genfromtxt(\"frank.dat\", delimiter=\",\")"
   ]
  },
  {
   "cell_type": "code",
   "execution_count": 15,
   "metadata": {},
   "outputs": [],
   "source": [
    "time = data[:,0]\n",
    "px = data[:,3]  #alle 3 körper der reihe nach\n",
    "py = data[:,4]\n",
    "pz = data[:,5]\n",
    "vx = data[:,6]\n",
    "vy = data[:,7]\n",
    "vz = data[:,8]"
   ]
  },
  {
   "cell_type": "code",
   "execution_count": 16,
   "metadata": {},
   "outputs": [],
   "source": [
    "px_sun = px[0::4]\n",
    "px_earth1 = px[1::4]\n",
    "px_jupyter = px[2::4]\n",
    "px_star = px[3::4]\n",
    "\n",
    "py_sun = py[0::4]\n",
    "py_earth1 = py[1::4]\n",
    "py_jupyter = py[2::4]\n",
    "py_star = py[3::4]\n",
    " \n",
    "pz_sun = pz[0::4]\n",
    "pz_earth1 = pz[1::4]\n",
    "pz_jupyter = pz[2::4]\n",
    "pz_star = pz[3::4]\n",
    "\n",
    "vx_sun = vx[0::4]\n",
    "vx_earth1 = vx[1::4]\n",
    "vx_jupyter = vx[2::4]\n",
    "vx_star = vx[3::4]\n",
    "\n",
    "vy_sun = vy[0::4]\n",
    "vy_earth1 = vy[1::4]\n",
    "vy_jupyter = vy[2::4]\n",
    "vy_star = vy[3::4]\n",
    "\n",
    "vz_sun = vz[0::4]\n",
    "vz_earth1 = vz[1::4]\n",
    "vz_jupyter = vz[2::4]\n",
    "vz_star = vz[3::4]"
   ]
  },
  {
   "cell_type": "code",
   "execution_count": 17,
   "metadata": {},
   "outputs": [],
   "source": [
    "def helper(a,b,c,d): \n",
    "    tot = [] \n",
    "    for i in range(len(a)):\n",
    "        tot.append([a[i],b[i],c[i], d[i]])\n",
    "    return  tot"
   ]
  },
  {
   "cell_type": "code",
   "execution_count": 18,
   "metadata": {},
   "outputs": [],
   "source": [
    "px_tot = np.asarray(helper(px_sun, px_earth1, px_jupyter, px_star))\n",
    "py_tot = np.asarray(helper(py_sun, py_earth1, py_jupyter, py_star))\n",
    "pz_tot = np.asarray(helper(pz_sun, pz_earth1, pz_jupyter, pz_star))\n",
    "\n",
    "vx_tot = np.asarray(helper(vx_sun, vx_earth1, vx_jupyter, vx_star))\n",
    "vy_tot = np.asarray(helper(vy_sun, vy_earth1, vy_jupyter, vy_star))\n",
    "vz_tot = np.asarray(helper(vz_sun, vz_earth1, vz_jupyter, vz_star))"
   ]
  },
  {
   "cell_type": "code",
   "execution_count": 19,
   "metadata": {},
   "outputs": [
    {
     "data": {
      "application/vnd.jupyter.widget-view+json": {
       "model_id": "6a44324b46b243c0a7285c213008be81",
       "version_major": 2,
       "version_minor": 0
      },
      "text/plain": [
       "VBox(children=(Figure(animation=200.0, camera=PerspectiveCamera(fov=46.0, position=(0.0, 0.0, 2.0), projection…"
      ]
     },
     "metadata": {},
     "output_type": "display_data"
    }
   ],
   "source": [
    "ipv.figure()\n",
    "s = ipv.quiver(px_tot, py_tot, pz_tot, vx_tot, vy_tot, vz_tot ,  marker='sphere',size=0.5)\n",
    "#ipv.scatter(px_tot[0:2000], py_tot[0:2000], pz_tot[0:2000], marker = \"spehere\")\n",
    "#ipv.xyzlim(-1, 1)\n",
    "ipv.animation_control(s, interval = 200) # shows controls for animation controls\n",
    "ipv.pylab.style.set_style_dark()\n",
    "ipv.pylab.style.box_off()\n",
    "ipv.show()"
   ]
  },
  {
   "cell_type": "code",
   "execution_count": 89,
   "metadata": {},
   "outputs": [],
   "source": [
    "s.size = 1"
   ]
  },
  {
   "cell_type": "code",
   "execution_count": 78,
   "metadata": {},
   "outputs": [],
   "source": [
    "data = np.genfromtxt(\"frank_1systemejection_otherHJUCSSaturn.dat\", delimiter=\",\")"
   ]
  },
  {
   "cell_type": "code",
   "execution_count": 79,
   "metadata": {},
   "outputs": [],
   "source": [
    "time = data[:,0]\n",
    "px = data[:,3]  #alle 3 körper der reihe nach\n",
    "py = data[:,4]\n",
    "pz = data[:,5]\n",
    "vx = data[:,6]\n",
    "vy = data[:,7]\n",
    "vz = data[:,8]"
   ]
  },
  {
   "cell_type": "code",
   "execution_count": 80,
   "metadata": {},
   "outputs": [],
   "source": [
    "px_star1 = px[0::6]\n",
    "px_star2 = px[1::6]\n",
    "px_jupyter1 = px[2::6]\n",
    "px_saturn1 = px[3::6]\n",
    "px_jupyter2 = px[4::6]\n",
    "px_saturn2 = px[5::6]\n",
    "\n",
    "\n",
    "py_star1 = py[0::6]\n",
    "py_star2 = py[1::6]\n",
    "py_jupyter1 = py[2::6]\n",
    "py_saturn1 = py[3::6]\n",
    "py_jupyter2 = py[4::6]\n",
    "py_saturn2 = py[5::6]\n",
    " \n",
    "pz_star1 = pz[0::6]\n",
    "pz_star2 = pz[1::6]\n",
    "pz_jupyter1 = pz[2::6]\n",
    "pz_saturn1 = pz[3::6]\n",
    "pz_jupyter2 = pz[4::6]\n",
    "pz_saturn2 = pz[5::6]\n",
    "\n",
    "vx_star1 = vx[0::6]\n",
    "vx_star2 = vx[1::6]\n",
    "vx_jupyter1 = vx[2::6]\n",
    "vx_saturn1 = vx[3::6]\n",
    "vx_jupyter2 = vx[4::6]\n",
    "vx_saturn2 = vx[5::6]\n",
    "\n",
    "vy_star1 = vy[0::6]\n",
    "vy_star2 = vy[1::6]\n",
    "vy_jupyter1 = vy[2::6]\n",
    "vy_saturn1 = vy[3::6]\n",
    "vy_jupyter2 = vy[4::6]\n",
    "vy_saturn2 = vy[5::6]\n",
    "\n",
    "vz_star1 = vz[0::6]\n",
    "vz_star2 = vz[1::6]\n",
    "vz_jupyter1 = vz[2::6]\n",
    "vz_saturn1 = vz[3::6]\n",
    "vz_jupyter2 = vz[4::6]\n",
    "vz_saturn2 = vz[5::6]"
   ]
  },
  {
   "cell_type": "code",
   "execution_count": 81,
   "metadata": {},
   "outputs": [],
   "source": [
    "def helper(a,b,c,d,e,f): \n",
    "    tot = [] \n",
    "    for i in range(len(a)):\n",
    "        tot.append([a[i],b[i],c[i], d[i], e[i], f[i]])\n",
    "    return  tot"
   ]
  },
  {
   "cell_type": "code",
   "execution_count": 82,
   "metadata": {},
   "outputs": [],
   "source": [
    "px_tot = np.asarray(helper(px_star1, px_star2, px_jupyter1, px_saturn1, px_jupyter2, px_saturn2))\n",
    "py_tot = np.asarray(helper(py_star1, py_star2, py_jupyter1, py_saturn1, py_jupyter2, py_saturn2))\n",
    "pz_tot = np.asarray(helper(pz_star1, pz_star2, pz_jupyter1, pz_saturn1, pz_jupyter2, pz_saturn2))\n",
    "\n",
    "vx_tot = np.asarray(helper(vx_star1, vx_star2, vx_jupyter1, vx_saturn1, vx_jupyter2, vx_saturn2))\n",
    "vy_tot = np.asarray(helper(vy_star1, vy_star2, vy_jupyter1, vy_saturn1, vy_jupyter2, vy_saturn2))\n",
    "vz_tot = np.asarray(helper(vz_star1, vz_star2, vz_jupyter1, vz_saturn1, vz_jupyter2, vz_saturn2))"
   ]
  },
  {
   "cell_type": "code",
   "execution_count": 83,
   "metadata": {},
   "outputs": [
    {
     "data": {
      "application/vnd.jupyter.widget-view+json": {
       "model_id": "450d05cdd7ad412481f887fbd9b96799",
       "version_major": 2,
       "version_minor": 0
      },
      "text/plain": [
       "VBox(children=(Figure(animation=200.0, camera=PerspectiveCamera(fov=46.0, position=(0.0, 0.0, 2.0), projection…"
      ]
     },
     "metadata": {},
     "output_type": "display_data"
    }
   ],
   "source": [
    "ipv.figure()\n",
    "s = ipv.scatter(px_tot, py_tot, pz_tot,  marker='sphere',size=1)\n",
    "ipv.scatter(px_jupyter1, py_jupyter1, pz_jupyter1,  marker='sphere',size=0.1, color = \"blue\")\n",
    "ipv.scatter(px_saturn1, py_saturn1, pz_saturn1,  marker='sphere',size=0.1, color = \"green\")\n",
    "ipv.scatter(px_jupyter2, py_jupyter2, pz_jupyter2,  marker='sphere',size=0.1, color = \"yellow\")\n",
    "ipv.scatter(px_saturn2, py_saturn2, pz_saturn2,  marker='sphere',size=0.1, color = \"purple\")\n",
    "#ipv.scatter(px_tot[0:2000], py_tot[0:2000], pz_tot[0:2000], marker = \"spehere\")\n",
    "#ipv.xyzlim(-1, 1)\n",
    "ipv.animation_control(s, interval = 200) # shows controls for animation controls\n",
    "ipv.pylab.style.set_style_dark()\n",
    "ipv.pylab.style.box_off()\n",
    "#ipv.view(distance = 100)   #azimuth=None, elevation=None, distance=None #camera angels\n",
    "# This is commented out, otherwise it would run on readthedocs\n",
    "ipv.show()\n",
    "#control = pythreejs.OrbitControls(controlling=fig.camera)\n",
    "# assigning to fig.controls will overwrite the builtin controls\n",
    "#fig.controls = control\n",
    "#control.autoRotate = True\n",
    "# the controls does not update itself, but if we toggle this setting, ipyvolume will update the controls\n",
    "#fig.render_continuous = True"
   ]
  },
  {
   "cell_type": "code",
   "execution_count": 33,
   "metadata": {},
   "outputs": [
    {
     "data": {
      "application/vnd.jupyter.widget-view+json": {
       "model_id": "2667dccbca7d4a178ea3901f305e0e41",
       "version_major": 2,
       "version_minor": 0
      },
      "text/plain": [
       "Output()"
      ]
     },
     "metadata": {},
     "output_type": "display_data"
    }
   ],
   "source": [
    "def set_view(figure, framenr, fraction):\n",
    "     ipv.view(fraction*360, (fraction - 0.5) * 180, distance=2 )\n",
    "ipv.movie('frank.mp4', set_view, fps=20, frames=1000)"
   ]
  },
  {
   "cell_type": "code",
   "execution_count": 3,
   "metadata": {},
   "outputs": [],
   "source": [
    "data = np.genfromtxt(\"frank_planet_star9.dat\", delimiter=\",\")"
   ]
  },
  {
   "cell_type": "code",
   "execution_count": 4,
   "metadata": {},
   "outputs": [],
   "source": [
    "time = data[:,0]\n",
    "px = data[:,3]  #alle 3 körper der reihe nach\n",
    "py = data[:,4]\n",
    "pz = data[:,5]\n",
    "vx = data[:,6]\n",
    "vy = data[:,7]\n",
    "vz = data[:,8]"
   ]
  },
  {
   "cell_type": "code",
   "execution_count": 5,
   "metadata": {},
   "outputs": [],
   "source": [
    "px_star1 = px[0::4]\n",
    "px_star2 = px[1::4]\n",
    "px_jupyter1 = px[2::4]\n",
    "px_saturn1 = px[3::4]\n",
    "\n",
    "\n",
    "py_star1 = py[0::4]\n",
    "py_star2 = py[1::4]\n",
    "py_jupyter1 = py[2::4]\n",
    "py_saturn1 = py[3::4]\n",
    "\n",
    " \n",
    "pz_star1 = pz[0::4]\n",
    "pz_star2 = pz[1::4]\n",
    "pz_jupyter1 = pz[2::4]\n",
    "pz_saturn1 = pz[3::4]\n",
    "\n",
    "\n",
    "vx_star1 = vx[0::4]\n",
    "vx_star2 = vx[1::4]\n",
    "vx_jupyter1 = vx[2::4]\n",
    "vx_saturn1 = vx[3::4]\n",
    "\n",
    "\n",
    "vy_star1 = vy[0::4]\n",
    "vy_star2 = vy[1::4]\n",
    "vy_jupyter1 = vy[2::4]\n",
    "vy_saturn1 = vy[3::4]\n",
    "\n",
    "\n",
    "vz_star1 = vz[0::4]\n",
    "vz_star2 = vz[1::4]\n",
    "vz_jupyter1 = vz[2::4]\n",
    "vz_saturn1 = vz[3::4]\n"
   ]
  },
  {
   "cell_type": "code",
   "execution_count": 6,
   "metadata": {},
   "outputs": [],
   "source": [
    "def helper(a,b,c,d): \n",
    "    tot = [] \n",
    "    for i in range(len(a)):\n",
    "        tot.append([a[i],b[i],c[i], d[i]])\n",
    "    return  tot"
   ]
  },
  {
   "cell_type": "code",
   "execution_count": 7,
   "metadata": {},
   "outputs": [],
   "source": [
    "px_tot = np.asarray(helper(px_star1, px_star2, px_jupyter1, px_saturn1))\n",
    "py_tot = np.asarray(helper(py_star1, py_star2, py_jupyter1, py_saturn1))\n",
    "pz_tot = np.asarray(helper(pz_star1, pz_star2, pz_jupyter1, pz_saturn1))\n",
    "\n",
    "vx_tot = np.asarray(helper(vx_star1, vx_star2, vx_jupyter1, vx_saturn1))\n",
    "vy_tot = np.asarray(helper(vy_star1, vy_star2, vy_jupyter1, vy_saturn1))\n",
    "vz_tot = np.asarray(helper(vz_star1, vz_star2, vz_jupyter1, vz_saturn1))"
   ]
  },
  {
   "cell_type": "code",
   "execution_count": 10,
   "metadata": {},
   "outputs": [
    {
     "data": {
      "application/vnd.jupyter.widget-view+json": {
       "model_id": "74477acb363041e896506fa361d63b62",
       "version_major": 2,
       "version_minor": 0
      },
      "text/plain": [
       "VBox(children=(Figure(animation=200.0, camera=PerspectiveCamera(fov=46.0, position=(0.0, 0.0, 2.0), projection…"
      ]
     },
     "metadata": {},
     "output_type": "display_data"
    }
   ],
   "source": [
    "ipv.figure()\n",
    "s = ipv.scatter(px_tot, py_tot, pz_tot,  marker='sphere',size=1)\n",
    "ipv.scatter(px_jupyter1, py_jupyter1, pz_jupyter1,  marker='sphere',size=0.3, color = \"blue\")\n",
    "ipv.scatter(px_saturn1, py_saturn1, pz_saturn1,  marker='sphere',size=0.3, color = \"green\")\n",
    "#ipv.scatter(px_jupyter2, py_jupyter2, pz_jupyter2,  marker='sphere',size=0.1, color = \"yellow\")\n",
    "#ipv.scatter(px_saturn2, py_saturn2, pz_saturn2,  marker='sphere',size=0.1, color = \"purple\")\n",
    "#ipv.scatter(px_tot[0:2000], py_tot[0:2000], pz_tot[0:2000], marker = \"spehere\")\n",
    "#ipv.xyzlim(-1, 1)\n",
    "ipv.animation_control(s, interval = 200) # shows controls for animation controls\n",
    "ipv.pylab.style.set_style_dark()\n",
    "ipv.pylab.style.box_off()\n",
    "#ipv.view(distance = 100)   #azimuth=None, elevation=None, distance=None #camera angels\n",
    "# This is commented out, otherwise it would run on readthedocs\n",
    "ipv.show()\n",
    "#control = pythreejs.OrbitControls(controlling=fig.camera)\n",
    "# assigning to fig.controls will overwrite the builtin controls\n",
    "#fig.controls = control\n",
    "#control.autoRotate = True\n",
    "# the controls does not update itself, but if we toggle this setting, ipyvolume will update the controls\n",
    "#fig.render_continuous = True"
   ]
  },
  {
   "cell_type": "markdown",
   "metadata": {},
   "source": [
    "params: \n",
    "\n",
    "\n",
    "Scalar v_inf = 3.6_kms;\n",
    "Scalar b_max = 50_AU;\n",
    "Scalar r_start = 350_AU;\n",
    "\n"
   ]
  },
  {
   "cell_type": "markdown",
   "metadata": {},
   "source": [
    "\\begin{align} \n",
    "E_{jup} = \\frac{G(M_{star} + M{jup})}{2a_j}\n",
    "\\end{align}"
   ]
  },
  {
   "cell_type": "code",
   "execution_count": 84,
   "metadata": {},
   "outputs": [],
   "source": [
    "import scipy.constants as c\n",
    "import astropy.constants as cs"
   ]
  },
  {
   "cell_type": "code",
   "execution_count": 127,
   "metadata": {},
   "outputs": [],
   "source": [
    "M_star = cs.M_sun.value\n",
    "M_jup = cs.M_jup.value\n",
    "G = c.G\n",
    "a_j = 5*1.47e11 #(AU) \n",
    "\n",
    "E_jup = G*(M_star*M_jup)/(2*a_j) "
   ]
  },
  {
   "cell_type": "code",
   "execution_count": 128,
   "metadata": {},
   "outputs": [
    {
     "data": {
      "text/plain": [
       "1.7136377329012568e+35"
      ]
     },
     "execution_count": 128,
     "metadata": {},
     "output_type": "execute_result"
    }
   ],
   "source": [
    "E_jup"
   ]
  },
  {
   "cell_type": "code",
   "execution_count": 129,
   "metadata": {},
   "outputs": [],
   "source": [
    "v_jup = np.sqrt(2*E_jup)"
   ]
  },
  {
   "cell_type": "code",
   "execution_count": 130,
   "metadata": {},
   "outputs": [
    {
     "data": {
      "text/plain": [
       "585429369420642.8"
      ]
     },
     "execution_count": 130,
     "metadata": {},
     "output_type": "execute_result"
    }
   ],
   "source": [
    "v_jup/(1000) #in km/s very small compared to solar mass (in term of magnitude)"
   ]
  },
  {
   "cell_type": "markdown",
   "metadata": {},
   "source": [
    "Therfore $Q_c$ is large! "
   ]
  },
  {
   "cell_type": "code",
   "execution_count": 131,
   "metadata": {},
   "outputs": [],
   "source": [
    "v_c = np.sqrt(2*E_jup/M_star)"
   ]
  },
  {
   "cell_type": "code",
   "execution_count": 133,
   "metadata": {},
   "outputs": [
    {
     "data": {
      "text/plain": [
       "0.41516578116499453"
      ]
     },
     "execution_count": 133,
     "metadata": {},
     "output_type": "execute_result"
    }
   ],
   "source": [
    "v_c/(1000) #km/s"
   ]
  },
  {
   "cell_type": "markdown",
   "metadata": {},
   "source": [
    "Ellipse equation:"
   ]
  },
  {
   "cell_type": "code",
   "execution_count": 148,
   "metadata": {},
   "outputs": [],
   "source": [
    "def ellipse(x,a,e): \n",
    "    b = np.sqrt(a**2 * (1-e**2)) \n",
    "    return np.sqrt(np.abs(1 - x**2/a**2 )/b**2) \n",
    "    "
   ]
  },
  {
   "cell_type": "code",
   "execution_count": 149,
   "metadata": {},
   "outputs": [],
   "source": [
    "x = np.arange(0,2*np.pi,0.01)\n",
    "a = 1\n",
    "e = 0.9"
   ]
  },
  {
   "cell_type": "code",
   "execution_count": 150,
   "metadata": {},
   "outputs": [
    {
     "data": {
      "text/plain": [
       "[<matplotlib.lines.Line2D at 0x7f6e633549d0>]"
      ]
     },
     "execution_count": 150,
     "metadata": {},
     "output_type": "execute_result"
    },
    {
     "data": {
      "image/png": "[encoded data removed]",
      "text/plain": [
       "<Figure size 432x288 with 1 Axes>"
      ]
     },
     "metadata": {
      "needs_background": "light"
     },
     "output_type": "display_data"
    }
   ],
   "source": [
    "plt.plot(x,ellipse(x,a,e))"
   ]
  },
  {
   "cell_type": "code",
   "execution_count": null,
   "metadata": {},
   "outputs": [],
   "source": []
  }
 ],
 "metadata": {
  "kernelspec": {
   "display_name": "Python 3",
   "language": "python",
   "name": "python3"
  },
  "language_info": {
   "codemirror_mode": {
    "name": "ipython",
    "version": 3
   },
   "file_extension": ".py",
   "mimetype": "text/x-python",
   "name": "python",
   "nbconvert_exporter": "python",
   "pygments_lexer": "ipython3",
   "version": "3.8.8"
  }
 },
 "nbformat": 4,
 "nbformat_minor": 4
}
