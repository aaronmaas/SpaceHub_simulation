{
 "cells": [
  {
   "cell_type": "code",
   "execution_count": 1,
   "metadata": {},
   "outputs": [],
   "source": [
    "import numpy as np\n",
    "import matplotlib.pyplot as plt\n"
   ]
  },
  {
   "cell_type": "code",
   "execution_count": 2,
   "metadata": {},
   "outputs": [],
   "source": [
    "import ipywidgets as widgets\n",
    "import ipyvolume as ipv"
   ]
  },
  {
   "cell_type": "code",
   "execution_count": 3,
   "metadata": {},
   "outputs": [],
   "source": [
    "data = np.genfromtxt(\"frank_planet_star9.dat\", delimiter=\",\")\n",
    "#load the data "
   ]
  },
  {
   "cell_type": "code",
   "execution_count": 4,
   "metadata": {},
   "outputs": [],
   "source": [
    "time = data[:,0]\n",
    "px = data[:,3]  \n",
    "py = data[:,4]\n",
    "pz = data[:,5]\n",
    "vx = data[:,6]\n",
    "vy = data[:,7]\n",
    "vz = data[:,8]\n",
    "\n",
    "#assign time, cartesiona coordinates (x,y,z) and velocities along the coordinate axis (vx,vy,vz)"
   ]
  },
  {
   "cell_type": "code",
   "execution_count": 5,
   "metadata": {},
   "outputs": [],
   "source": [
    "#coordinates and velocities for all the bodies in the simulation \n",
    "#here one interloper and a planets system with one host star and jupiter and saturn mass planets\n",
    "px_star1 = px[0::4]\n",
    "px_star2 = px[1::4]\n",
    "px_jupyter1 = px[2::4]\n",
    "px_saturn1 = px[3::4]\n",
    "\n",
    "py_star1 = py[0::4]\n",
    "py_star2 = py[1::4]\n",
    "py_jupyter1 = py[2::4]\n",
    "py_saturn1 = py[3::4]\n",
    "\n",
    " \n",
    "pz_star1 = pz[0::4]\n",
    "pz_star2 = pz[1::4]\n",
    "pz_jupyter1 = pz[2::4]\n",
    "pz_saturn1 = pz[3::4]\n",
    "\n",
    "\n",
    "vx_star1 = vx[0::4]\n",
    "vx_star2 = vx[1::4]\n",
    "vx_jupyter1 = vx[2::4]\n",
    "vx_saturn1 = vx[3::4]\n",
    "\n",
    "\n",
    "vy_star1 = vy[0::4]\n",
    "vy_star2 = vy[1::4]\n",
    "vy_jupyter1 = vy[2::4]\n",
    "vy_saturn1 = vy[3::4]\n",
    "\n",
    "\n",
    "vz_star1 = vz[0::4]\n",
    "vz_star2 = vz[1::4]\n",
    "vz_jupyter1 = vz[2::4]\n",
    "vz_saturn1 = vz[3::4]"
   ]
  },
  {
   "cell_type": "code",
   "execution_count": 6,
   "metadata": {},
   "outputs": [],
   "source": [
    "#helper function to create continous array \n",
    "def helper(a,b,c,d): \n",
    "    tot = [] \n",
    "    for i in range(len(a)):\n",
    "        tot.append([a[i],b[i],c[i], d[i]])\n",
    "    return  tot"
   ]
  },
  {
   "cell_type": "code",
   "execution_count": 7,
   "metadata": {},
   "outputs": [],
   "source": [
    "px_tot = np.asarray(helper(px_star1, px_star2, px_jupyter1, px_saturn1))\n",
    "py_tot = np.asarray(helper(py_star1, py_star2, py_jupyter1, py_saturn1))\n",
    "pz_tot = np.asarray(helper(pz_star1, pz_star2, pz_jupyter1, pz_saturn1))\n",
    "\n",
    "vx_tot = np.asarray(helper(vx_star1, vx_star2, vx_jupyter1, vx_saturn1))\n",
    "vy_tot = np.asarray(helper(vy_star1, vy_star2, vy_jupyter1, vy_saturn1))\n",
    "vz_tot = np.asarray(helper(vz_star1, vz_star2, vz_jupyter1, vz_saturn1))"
   ]
  },
  {
   "cell_type": "code",
   "execution_count": 8,
   "metadata": {},
   "outputs": [
    {
     "data": {
      "application/vnd.jupyter.widget-view+json": {
       "model_id": "71b4ab5e7a0a4d738db2be6f42fe6d0c",
       "version_major": 2,
       "version_minor": 0
      },
      "text/plain": [
       "VBox(children=(Figure(animation=200.0, camera=PerspectiveCamera(fov=46.0, position=(0.0, 0.0, 2.0), projection…"
      ]
     },
     "metadata": {},
     "output_type": "display_data"
    }
   ],
   "source": [
    "#creat Ipy volume animation\n",
    "ipv.figure()\n",
    "s = ipv.scatter(px_tot, py_tot, pz_tot,  marker='sphere',size=1)\n",
    "ipv.scatter(px_jupyter1, py_jupyter1, pz_jupyter1,  marker='sphere',size=0.3, color = \"blue\")\n",
    "ipv.scatter(px_saturn1, py_saturn1, pz_saturn1,  marker='sphere',size=0.3, color = \"green\")\n",
    "#ipv.scatter(px_jupyter2, py_jupyter2, pz_jupyter2,  marker='sphere',size=0.1, color = \"yellow\")\n",
    "#ipv.scatter(px_saturn2, py_saturn2, pz_saturn2,  marker='sphere',size=0.1, color = \"purple\")\n",
    "#ipv.scatter(px_tot[0:2000], py_tot[0:2000], pz_tot[0:2000], marker = \"spehere\")\n",
    "#ipv.xyzlim(-1, 1)\n",
    "ipv.animation_control(s, interval = 200) # shows controls for animation controls\n",
    "ipv.pylab.style.set_style_dark()\n",
    "ipv.pylab.style.box_off()\n",
    "#ipv.view(distance = 100)   #azimuth=None, elevation=None, distance=None #camera angels\n",
    "# This is commented out, otherwise it would run on readthedocs\n",
    "ipv.show()\n",
    "#control = pythreejs.OrbitControls(controlling=fig.camera)\n",
    "# assigning to fig.controls will overwrite the builtin controls\n",
    "#fig.controls = control\n",
    "#control.autoRotate = True\n",
    "# the controls does not update itself, but if we toggle this setting, ipyvolume will update the controls\n",
    "#fig.render_continuous = True"
   ]
  },
  {
   "cell_type": "code",
   "execution_count": null,
   "metadata": {},
   "outputs": [],
   "source": []
  }
 ],
 "metadata": {
  "kernelspec": {
   "display_name": "Python 3",
   "language": "python",
   "name": "python3"
  },
  "language_info": {
   "codemirror_mode": {
    "name": "ipython",
    "version": 3
   },
   "file_extension": ".py",
   "mimetype": "text/x-python",
   "name": "python",
   "nbconvert_exporter": "python",
   "pygments_lexer": "ipython3",
   "version": "3.8.8"
  }
 },
 "nbformat": 4,
 "nbformat_minor": 4
}
